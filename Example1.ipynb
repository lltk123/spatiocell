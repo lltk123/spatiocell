{
 "cells": [
  {
   "cell_type": "code",
   "execution_count": null,
   "metadata": {},
   "outputs": [],
   "source": [
    "import pandas as pd\n",
    "import scanpy as sc\n",
    "import warnings\n",
    "warnings.filterwarnings('ignore')\n",
    "from anndata import AnnData\n",
    "import sys\n",
    "from SpatialCell.plot import stack_plot\n",
    "import random\n",
    "random.seed(42)\n",
    "sys.path.append('F:/HLL/SpatialCell/SpatialCell')\n",
    "import SpatialCell.tool as spct\n",
    "import SpatialCell.plot as spcp\n",
    "import squidpy as sq"
   ]
  },
  {
   "cell_type": "code",
   "execution_count": 3,
   "metadata": {},
   "outputs": [],
   "source": [
    "adata = sc.read_h5ad('F:/HLL/SpatialCell/data/codex_mouse_spleen.h5ad')"
   ]
  }
 ],
 "metadata": {
  "kernelspec": {
   "display_name": "SpatioCell",
   "language": "python",
   "name": "python3"
  },
  "language_info": {
   "codemirror_mode": {
    "name": "ipython",
    "version": 3
   },
   "file_extension": ".py",
   "mimetype": "text/x-python",
   "name": "python",
   "nbconvert_exporter": "python",
   "pygments_lexer": "ipython3",
   "version": "3.8.20"
  }
 },
 "nbformat": 4,
 "nbformat_minor": 2
}
